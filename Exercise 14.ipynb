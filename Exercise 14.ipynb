{
 "cells": [
  {
   "cell_type": "code",
   "execution_count": 10,
   "metadata": {},
   "outputs": [
    {
     "name": "stdout",
     "output_type": "stream",
     "text": [
      "enter the limit:5\n",
      "enter the numbers 1 :78\n",
      "enter the numbers 2 :5\n",
      "enter the numbers 3 :6\n",
      "enter the numbers 4 :2\n",
      "enter the numbers 5 :12\n",
      "sum 103\n"
     ]
    }
   ],
   "source": [
    "#1.Write a Python Function to sum all no's in a list\n",
    "num=int(input(\"enter the limit:\"))   #enter the limit of elements\n",
    "no_list=list()                      #create empty list\n",
    "i=0;\n",
    "for i in range(num):\n",
    "    number=int(input(\"enter the numbers %d :\"%(i+1))) #input the elements\n",
    "    no_list.append(number)    #appending element to list\n",
    "\n",
    "def sum(no_list):           #defining fuction\n",
    "    total = 0\n",
    "    for x in no_list:\n",
    "        total=total+ x\n",
    "    return total             #return value\n",
    "print(\"sum\",sum(no_list))"
   ]
  },
  {
   "cell_type": "code",
   "execution_count": 14,
   "metadata": {},
   "outputs": [
    {
     "name": "stdout",
     "output_type": "stream",
     "text": [
      "enter a number:5\n",
      "Factorial of 5 is: 120\n"
     ]
    }
   ],
   "source": [
    "#2.Write a Python Program to calculate the factorial of a number.The function accepts the integer as an argument\n",
    "\n",
    "#function named factorial\n",
    "n=int(input(\"enter a number:\")) #reading the value\n",
    "def factorial(n):   #defining function\n",
    "    if n == 0:\n",
    "        return 1\n",
    "    else:  \n",
    "        fact =n* factorial(n-1)  #calculation\n",
    "        return fact \n",
    "print(\"Factorial of\",n,\"is:\", factorial(n)) "
   ]
  },
  {
   "cell_type": "code",
   "execution_count": 12,
   "metadata": {},
   "outputs": [
    {
     "name": "stdout",
     "output_type": "stream",
     "text": [
      "enter a string:ABcdEF\n",
      "LOWER CASES: 2\n",
      "UPPER CASES: 4\n"
     ]
    }
   ],
   "source": [
    "#Write a Python function that accepts a string and calculate the number of upper and lower case letters.\n",
    "a=input(\"enter a string:\") #read the value\n",
    "def string(s):   #definig function\n",
    "    c1=0;\n",
    "    c2=0;\n",
    "    for i in s:\n",
    "        if(i.isupper()): #checking the letter using isupper()\n",
    "            c1=c1+1;     #counting upper case\n",
    "        elif(i.islower()):#checking the letter using lower()\n",
    "            c2=c2+1        #counting upper case\n",
    "    print(\"LOWER CASES:\",c2)\n",
    "    print(\"UPPER CASES:\",c1)\n",
    "string(a)"
   ]
  },
  {
   "cell_type": "code",
   "execution_count": 19,
   "metadata": {},
   "outputs": [
    {
     "name": "stdout",
     "output_type": "stream",
     "text": [
      "enter the integer:3\n",
      "True\n"
     ]
    }
   ],
   "source": [
    "#Write a Python function to take a number as a parameter and check the number is prime or not.\n",
    "\n",
    "a=int(input(\"enter the integer:\")) #read the number\n",
    "def prime(n): #definig a function\n",
    "        for x in range(2,n): #iterate\n",
    "            if(n % x==0):    #condition\n",
    "                return False\n",
    "        return True             \n",
    "print(prime(a))"
   ]
  },
  {
   "cell_type": "code",
   "execution_count": 37,
   "metadata": {},
   "outputs": [
    {
     "name": "stdout",
     "output_type": "stream",
     "text": [
      "CURRENT YEAR:2021\n",
      "UPTO:2041\n",
      "leap years\n",
      "2024\n",
      "2028\n",
      "2032\n",
      "2036\n",
      "2040\n"
     ]
    }
   ],
   "source": [
    "#Display future Leap Years from current year to final year entered by user\n",
    "\n",
    "#leap year function\n",
    "year=int(input(\"CURRENT YEAR:\")) #read current year\n",
    "end=int(input(\"UPTO:\"))   \n",
    "print(\"leap years\")\n",
    "def leap(year): #definig function\n",
    "    y=year\n",
    "    count=0\n",
    "    for y in range(year,end+1):\n",
    "        if y%4==0 and (y%100 != 0 or y%400==0): #condition for leap year\n",
    "            print(y)\n",
    "            y=y+1\n",
    "            count=count+1\n",
    "leap(year)"
   ]
  },
  {
   "cell_type": "code",
   "execution_count": 2,
   "metadata": {},
   "outputs": [
    {
     "name": "stdout",
     "output_type": "stream",
     "text": [
      "enter the limit:5\n",
      "enter the numbers 1 :3\n",
      "enter the numbers 2 :6\n",
      "enter the numbers 3 :5\n",
      "enter the numbers 4 :8\n",
      "enter the numbers 5 :99\n",
      "list of numbers: [3, 6, 5, 8, 99]\n",
      "odd numbers: [3, 5, 99]\n"
     ]
    }
   ],
   "source": [
    "#From a list of integers,create a list removing even numbers\n",
    "num=int(input(\"enter the limit:\")) #reading the value\n",
    "no_list=list()   #create empty list\n",
    "oddlist=list()   #create empty list\n",
    "i=0;\n",
    "for i in range(num):\n",
    "    number=int(input(\"enter the numbers %d :\"%(i+1))) #enter the elements\n",
    "    no_list.append(number)    #elements added to list\n",
    "print(\"list of numbers:\",no_list)\n",
    "def odd(x):\n",
    "    if x%2 !=0:       #condition\n",
    "        return x;\n",
    "for x in no_list:\n",
    "    y=odd(x)\n",
    "    if y !=None:\n",
    "        oddlist.append(y) #append to another empty list\n",
    "print(\"odd numbers:\",oddlist)\n",
    "        \n",
    "        \n",
    "        "
   ]
  },
  {
   "cell_type": "code",
   "execution_count": null,
   "metadata": {},
   "outputs": [],
   "source": []
  },
  {
   "cell_type": "code",
   "execution_count": null,
   "metadata": {},
   "outputs": [],
   "source": []
  },
  {
   "cell_type": "code",
   "execution_count": null,
   "metadata": {},
   "outputs": [],
   "source": []
  },
  {
   "cell_type": "code",
   "execution_count": null,
   "metadata": {},
   "outputs": [],
   "source": []
  }
 ],
 "metadata": {
  "kernelspec": {
   "display_name": "Python 3",
   "language": "python",
   "name": "python3"
  },
  "language_info": {
   "codemirror_mode": {
    "name": "ipython",
    "version": 3
   },
   "file_extension": ".py",
   "mimetype": "text/x-python",
   "name": "python",
   "nbconvert_exporter": "python",
   "pygments_lexer": "ipython3",
   "version": "3.8.0"
  }
 },
 "nbformat": 4,
 "nbformat_minor": 4
}
