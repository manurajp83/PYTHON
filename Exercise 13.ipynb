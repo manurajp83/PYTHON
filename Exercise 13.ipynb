{
 "cells": [
  {
   "cell_type": "code",
   "execution_count": 1,
   "metadata": {},
   "outputs": [
    {
     "name": "stdout",
     "output_type": "stream",
     "text": [
      "Ascending order is: [('Paul', 50), ('arjun', 16), ('bln', 34)]\n",
      "Descending order is: [('bln', 34), ('arjun', 16), ('Paul', 50)]\n"
     ]
    }
   ],
   "source": [
    "#1.Sort dictionary in ascending and descending order\n",
    "\n",
    "y={'Paul':50,'bln':34,'arjun':16}\n",
    "l=list(y.items())\n",
    "\n",
    "l.sort()\n",
    "print('Ascending order is:',l)\n",
    "\n",
    "l=list(y.items())\n",
    "l.sort(reverse=True) #sort in rev order\n",
    "print(\"Descending order is:\",l)"
   ]
  },
  {
   "cell_type": "code",
   "execution_count": 2,
   "metadata": {},
   "outputs": [
    {
     "name": "stdout",
     "output_type": "stream",
     "text": [
      "{'dict1': {'Fruits': 19, 'Veg': 8}, 'dict2': {'One': 1, 'Two': 2}}\n"
     ]
    }
   ],
   "source": [
    "#2.Merge two dictionaries\n",
    "\n",
    "dict1={'Fruits':19,'Veg':8}\n",
    "dict2={'One':1,'Two':2}\n",
    "\n",
    "#merging\n",
    "merged={\"dict1\":dict1,\"dict2\":dict2}\n",
    "print(merged)\n"
   ]
  },
  {
   "cell_type": "code",
   "execution_count": 5,
   "metadata": {},
   "outputs": [
    {
     "name": "stdout",
     "output_type": "stream",
     "text": [
      "Enter the list of integers with space : 133 52 60 300\n",
      "The list is [133, 52, 60, 300]\n",
      "The list greater than 100 item changed to 100 is ['over', 52, 60, 'over']\n"
     ]
    }
   ],
   "source": [
    "#Prompt the user for a list of integers.For all Values greater than 100 ,store over\n",
    "\n",
    "lst1 = []  \n",
    "#get list of integer from user\n",
    "lst1 = [int(item) for item in input(\"Enter the list of integers with space : \").split()] \n",
    "print('The list is',lst1) \n",
    "\n",
    "#if list item is greater than 100 print-over\n",
    "ovr=[\"over\" if x>=100  else x for x in lst1]\n",
    "\n",
    "print(\"The list greater than 100 item changed to 100 is\",ovr)\n",
    "\n",
    " \n",
    "\n"
   ]
  },
  {
   "cell_type": "code",
   "execution_count": 16,
   "metadata": {},
   "outputs": [
    {
     "name": "stdout",
     "output_type": "stream",
     "text": [
      "a.They are of different length\n",
      "b.List sum is not same\n",
      "c.Value occur in both are [3]\n"
     ]
    }
   ],
   "source": [
    "#5.Enter two list of integers\n",
    "   #a.whether the list are of same length\n",
    "    #b.whether list sums to same value\n",
    "    #c.whether any value occur in both\n",
    "\n",
    "list1=[2,3,8,6]\n",
    "list2=[4,7,3]\n",
    "\n",
    "#to check if they are of same length using #len()\n",
    "if len(list1)==len(list2):\n",
    "    print(\"a.They are of same length\")\n",
    "else:\n",
    "    print('a.They are of different length')\n",
    "    \n",
    "#to check if list sums same value\n",
    "if sum(list1)==sum(list2):\n",
    "    print(\"b.List sum is same\")\n",
    "else:\n",
    "    print(\"b.List sum is not same\")\n",
    "    \n",
    "#to check any value occur in both\n",
    "\n",
    "int=list(set(list1) & set(list2))\n",
    "print(\"c.Value occur in both are\",int)"
   ]
  },
  {
   "cell_type": "code",
   "execution_count": 43,
   "metadata": {},
   "outputs": [
    {
     "name": "stdin",
     "output_type": "stream",
     "text": [
      "Enter some Names Seperated by space: Ramu Raju Aman\n"
     ]
    },
    {
     "name": "stdout",
     "output_type": "stream",
     "text": [
      "The List is ['Ramu', 'Raju', 'Aman']\n",
      "Occurence of 'a' is : 3\n"
     ]
    }
   ],
   "source": [
    "#Store a list of first Names.Count the occurence of a within the List\n",
    "\n",
    "str=input(\"Enter some Names Seperated by space:\")\n",
    "strlist=str.split()\n",
    "print(\"The List is\",strlist)\n",
    "\n",
    "#To count Occuenc of a\n",
    "cnt=str.count(\"a\")\n",
    "\n",
    "#For printing the count\n",
    "print(\"Occurence of 'a' is :\",cnt)"
   ]
  },
  {
   "cell_type": "code",
   "execution_count": null,
   "metadata": {},
   "outputs": [],
   "source": []
  }
 ],
 "metadata": {
  "kernelspec": {
   "display_name": "Python 3",
   "language": "python",
   "name": "python3"
  },
  "language_info": {
   "codemirror_mode": {
    "name": "ipython",
    "version": 3
   },
   "file_extension": ".py",
   "mimetype": "text/x-python",
   "name": "python",
   "nbconvert_exporter": "python",
   "pygments_lexer": "ipython3",
   "version": "3.8.0"
  }
 },
 "nbformat": 4,
 "nbformat_minor": 4
}
