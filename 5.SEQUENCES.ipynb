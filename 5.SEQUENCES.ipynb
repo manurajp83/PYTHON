{
 "cells": [
  {
   "cell_type": "code",
   "execution_count": 2,
   "metadata": {},
   "outputs": [
    {
     "name": "stdout",
     "output_type": "stream",
     "text": [
      "Enter a string:gallery\n",
      "New string: gary\n"
     ]
    }
   ],
   "source": [
    "#program to print first two & last two characters\n",
    "str1=input(\"Enter a string:\")     #to input values\n",
    "print(\"New string:\",str1[:2]+str1[-2:]) #to display first and last character"
   ]
  },
  {
   "cell_type": "code",
   "execution_count": 3,
   "metadata": {},
   "outputs": [
    {
     "name": "stdout",
     "output_type": "stream",
     "text": [
      "Enter the first number89\n",
      "Enter the second number23\n",
      "The largest number among 89 and 23 is: 89\n"
     ]
    }
   ],
   "source": [
    "#program to find largest of 3 numbers using max()\n",
    "a=int(input(\"Enter the first number\"))      # to input first number\n",
    "b=int(input(\"Enter the second number\"))      #to input second number\n",
    "print(\"The largest number among %d and %d is:\"%(a,b),max(a,b))  #to check the largest ussing max()\n"
   ]
  },
  {
   "cell_type": "code",
   "execution_count": 5,
   "metadata": {},
   "outputs": [
    {
     "name": "stdout",
     "output_type": "stream",
     "text": [
      "Enter a name:cristiano\n",
      "New string is: oristianc\n"
     ]
    }
   ],
   "source": [
    "#program to change the given string where the new string first& last\n",
    "s=input(\"Enter a name:\") #to input name\n",
    "ms=s[-1:]+s[1:-1]+s[:1]   # to concatinat changed string \n",
    "print(\"New string is:\",ms) #to display new string\n"
   ]
  },
  {
   "cell_type": "code",
   "execution_count": 8,
   "metadata": {},
   "outputs": [
    {
     "name": "stdout",
     "output_type": "stream",
     "text": [
      "Enter the first string:lionel\n",
      "Enter the second string:messi\n",
      "Entered string: ('lionel', 'messi')\n",
      "New string: meonel lissi\n"
     ]
    }
   ],
   "source": [
    "#program to get a single string from two given string by a space and swap first two character of each string\n",
    "str1=input(\"Enter the first string:\")   #to input first string\n",
    "str2=input(\"Enter the second string:\")  #to input second string\n",
    "a=str2[:2]+str1[2:] #stores string2 first two character and remainig characters of string1 except first two character \n",
    "b=str1[:2]+str2[2:]  #stores string1 first 2 character and remaining characters of string2 except first two character \n",
    "print(\"Entered string:\",(str1,str2)) #to display entered string\n",
    "print(\"New string:\",a+' '+b)          #to display new string "
   ]
  },
  {
   "cell_type": "code",
   "execution_count": 11,
   "metadata": {},
   "outputs": [
    {
     "name": "stdout",
     "output_type": "stream",
     "text": [
      "Enter the string:TrAiN\n",
      "String in upper case TRAIN\n",
      "String in lower case train\n"
     ]
    }
   ],
   "source": [
    "#program to input and returns string in upper and lower cases\n",
    "str=input(\"Enter the string:\") #to input the string\n",
    "print(\"String in upper case\",str.upper()) #converts to upper case  and displays them\n",
    "print(\"String in lower case\",str.lower()) #converts to lover case and diaplays them"
   ]
  },
  {
   "cell_type": "code",
   "execution_count": null,
   "metadata": {},
   "outputs": [],
   "source": []
  }
 ],
 "metadata": {
  "kernelspec": {
   "display_name": "Python 3",
   "language": "python",
   "name": "python3"
  },
  "language_info": {
   "codemirror_mode": {
    "name": "ipython",
    "version": 3
   },
   "file_extension": ".py",
   "mimetype": "text/x-python",
   "name": "python",
   "nbconvert_exporter": "python",
   "pygments_lexer": "ipython3",
   "version": "3.8.0"
  }
 },
 "nbformat": 4,
 "nbformat_minor": 4
}
