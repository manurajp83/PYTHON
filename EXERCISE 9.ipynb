{
 "cells": [
  {
   "cell_type": "code",
   "execution_count": 2,
   "metadata": {},
   "outputs": [
    {
     "name": "stdout",
     "output_type": "stream",
     "text": [
      "Enter the number to print multiplication table: 9\n",
      "9 x 1 = 9\n",
      "9 x 2 = 18\n",
      "9 x 3 = 27\n",
      "9 x 4 = 36\n",
      "9 x 5 = 45\n",
      "9 x 6 = 54\n",
      "9 x 7 = 63\n",
      "9 x 8 = 72\n",
      "9 x 9 = 81\n",
      "9 x 10 = 90\n"
     ]
    }
   ],
   "source": [
    "#program to display multiplication table of a number\n",
    "n=int(input(\"Enter the number to print multiplication table: \")) #to enter a number\n",
    "i=1                                                               #declaration \n",
    "while(i<=10):                                                     #while loop works until i<10\n",
    " p = (i*n)                                                        \n",
    " print(\"%d x %d = %d\"%(n,i,p))                                    #to print multiplication table\n",
    " i=i+1\n"
   ]
  },
  {
   "cell_type": "code",
   "execution_count": 1,
   "metadata": {},
   "outputs": [
    {
     "name": "stdout",
     "output_type": "stream",
     "text": [
      "Enter the number: 6\n",
      "6! = 720\n"
     ]
    }
   ],
   "source": [
    "#factorial of a number\n",
    "n=int(input(\"Enter the number: \")) #to enter a number\n",
    "i=1;f=1\n",
    "while(n>=i):                       #while loop works until n>=i\n",
    " f=f*i                             #fact=fact*i\n",
    " i=i+1                             #increment the value of i by 1\n",
    "print(\"%d! = %d\"%(n,f))            #to print the factorial\n"
   ]
  },
  {
   "cell_type": "code",
   "execution_count": 1,
   "metadata": {},
   "outputs": [
    {
     "name": "stdout",
     "output_type": "stream",
     "text": [
      "Enter the number: 5625\n",
      "Number of digits:  4\n"
     ]
    }
   ],
   "source": [
    "#program to count the number of digits in a number\n",
    "n=int(input(\"Enter the number: \")) #to enter a number\n",
    "c=0\n",
    "while(n!=0):                       #while loop works until n!=0\n",
    " n=n//10\n",
    " c=c+1\n",
    "print(\"Number of digits: \",c)       #print the count "
   ]
  },
  {
   "cell_type": "code",
   "execution_count": 12,
   "metadata": {},
   "outputs": [
    {
     "name": "stdout",
     "output_type": "stream",
     "text": [
      "0\n",
      "1\n",
      "1\n",
      "2\n",
      "3\n",
      "5\n",
      "8\n",
      "13\n",
      "21\n",
      "34\n",
      "55\n"
     ]
    }
   ],
   "source": [
    "#fibonacci series\n",
    "a=0; b=1;c=0                       #initialisation of variables\n",
    "print(a);print(b)                  #print a and b\n",
    "while 50>c :                       #while loop checks whether 50>c\n",
    " c=a+b                             #stores a+b   \n",
    " a=b                               #stores value of b in a \n",
    " b=c                               #stores value of a in b \n",
    " print(c)                          #print sum"
   ]
  },
  {
   "cell_type": "code",
   "execution_count": null,
   "metadata": {},
   "outputs": [],
   "source": [
    "#gcd of two numbers\n",
    "n1=int(input(\"Please Enter first number:\"))           #to read first number\n",
    "n2=int(input(\"Please Enter second number:\"))          #to read second number\n",
    "a=n1                                                  #store value for output\n",
    "b=n2\n",
    "while(n2!=0):                                          #checks whether n2!=0 if so it exits from loop\n",
    "    n3=n2\n",
    "    n2=n1%n2\n",
    "    n1=n3\n",
    "gcd=num                                                \n",
    "print(\"GCD of %d and %d - %d\"%(a,b,gcd))"
   ]
  },
  {
   "cell_type": "code",
   "execution_count": 5,
   "metadata": {},
   "outputs": [
    {
     "data": {
      "text/plain": [
       "1"
      ]
     },
     "execution_count": 5,
     "metadata": {},
     "output_type": "execute_result"
    }
   ],
   "source": []
  },
  {
   "cell_type": "code",
   "execution_count": null,
   "metadata": {},
   "outputs": [],
   "source": []
  },
  {
   "cell_type": "code",
   "execution_count": null,
   "metadata": {},
   "outputs": [],
   "source": []
  },
  {
   "cell_type": "code",
   "execution_count": null,
   "metadata": {},
   "outputs": [],
   "source": []
  },
  {
   "cell_type": "code",
   "execution_count": null,
   "metadata": {},
   "outputs": [],
   "source": []
  }
 ],
 "metadata": {
  "kernelspec": {
   "display_name": "Python 3",
   "language": "python",
   "name": "python3"
  },
  "language_info": {
   "codemirror_mode": {
    "name": "ipython",
    "version": 3
   },
   "file_extension": ".py",
   "mimetype": "text/x-python",
   "name": "python",
   "nbconvert_exporter": "python",
   "pygments_lexer": "ipython3",
   "version": "3.8.0"
  }
 },
 "nbformat": 4,
 "nbformat_minor": 4
}
