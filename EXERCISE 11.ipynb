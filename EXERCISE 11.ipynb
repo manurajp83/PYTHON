{
 "cells": [
  {
   "cell_type": "code",
   "execution_count": 1,
   "metadata": {},
   "outputs": [
    {
     "name": "stdout",
     "output_type": "stream",
     "text": [
      "Enter the number of elements:3\n",
      "Enter element number 1:1\n",
      "Enter element number 2:2\n",
      "Enter element number 3:3\n",
      "Entered tuple is: ('1', '2', '3')\n",
      "Entered tuple is: ('3', '2', '1')\n"
     ]
    }
   ],
   "source": [
    "#program to reverse a tuple entered by the user\n",
    "n=int(input(\"Enter the number of elements:\"))         #to enter number of elements\n",
    "elist=list()                                          #declaration of list to store elements\n",
    "for i in range(n):                                    #for loop to read each elements\n",
    " el=input(\"Enter element number %d:\"%(i+1))           \n",
    " elist.append(el)                                     #each element is appended to elist\n",
    " \n",
    "etuple=tuple(elist)                                   #elist is converted to tuple \n",
    "print(\"Entered tuple is:\",etuple)                     #to print tuple\n",
    "\n",
    "rtuple=tuple(reversed(etuple))                        #reverse() to reverse the tuple  \n",
    "print(\"Entered tuple is:\",rtuple)                     #to print reversed tuple "
   ]
  },
  {
   "cell_type": "code",
   "execution_count": 6,
   "metadata": {},
   "outputs": [
    {
     "name": "stdout",
     "output_type": "stream",
     "text": [
      "Enter number of elements:5\n",
      "Enter element number 1:1\n",
      "Enter element number 2:2\n",
      "Enter element number 3:3\n",
      "Enter element number 4:4\n",
      "Enter element number 5:5\n",
      "Entered tuple is: (1, 2, 3, 4, 5)\n",
      "Average of entered tuple is: 3.0\n"
     ]
    }
   ],
   "source": [
    "#program to find the average of a tuple entered by the user\n",
    "n=int(input(\"Enter number of elements:\"))                     #to input number of elements\n",
    "elist=list()                                                  #declaration of list    \n",
    "\n",
    "for i in range(n):                                            #for loop to read each elements \n",
    "    el=int(input(\"Enter element number %d:\"%(i+1)))\n",
    "    elist.append(el)                                          #each element is appended to elist \n",
    "  \n",
    "etuple=tuple(elist)                                           #converts elist to tuple\n",
    "print(\"Entered tuple is:\",etuple)                             #displays entered tuple \n",
    "print(\"Average of entered tuple is:\",(sum(etuple)/len(etuple)))#diaplays average of elements in tuple "
   ]
  },
  {
   "cell_type": "code",
   "execution_count": 12,
   "metadata": {},
   "outputs": [
    {
     "name": "stdout",
     "output_type": "stream",
     "text": [
      "Enter number of elements:4\n",
      "Enter element number 1:OXYZEN\n",
      "Enter element number 2:H2SO4\n",
      "Enter element number 3:HCL\n",
      "Enter element number 4:CO2\n",
      "Entered tuple is: ('OXYZEN', 'H2SO4', 'HCL', 'CO2')\n",
      "Enter the element to find index:HCL\n",
      "The element HCL is at index 2\n"
     ]
    }
   ],
   "source": [
    "#program to find the index of the element entered by the user\n",
    "n=int(input(\"Enter number of elements:\"))                       #to input number of elements\n",
    "elist=list()                                                    #declaration of list\n",
    "\n",
    "for i in range(n):                                              #for loop to read each elements   \n",
    "    el=input(\"Enter element number %d:\"%(i+1))                   \n",
    "    elist.append(el)                                            #each element is appended to elist\n",
    "\n",
    "etuple=tuple(elist)                                              #converts elist to tuple                                      \n",
    "print(\"Entered tuple is:\",etuple)                                #displays the entered tuple\n",
    "\n",
    "item=input(\"Enter the element to find index:\")                   #reads the element to find the index    \n",
    "index=etuple.index(item)                                         #searches element in the tuple\n",
    "print(\"The element %s is at index %d\"%(item,index))              #displays item and index value "
   ]
  },
  {
   "cell_type": "code",
   "execution_count": 19,
   "metadata": {},
   "outputs": [
    {
     "name": "stdout",
     "output_type": "stream",
     "text": [
      "Enter number of elements:5\n",
      "Enter element number 1:RAM\n",
      "Enter element number 2:SAM\n",
      "Enter element number 3:ROY1\n",
      "Enter element number 4:ARUM3\n",
      "Enter element number 5:SANJAY\n",
      "Entered tuple is: ('RAM', 'SAM', 'ROY1', 'ARUM3', 'SANJAY')\n",
      "Enter the intex to remove element:ARUM3\n",
      "New tuple after removing the element is: ('RAM', 'SAM', 'ROY1', 'SANJAY')\n"
     ]
    }
   ],
   "source": [
    "#program to remove an element from tuple by index entered by the user\n",
    "n=int(input(\"Enter number of elements:\"))                        #to input number of elements\n",
    "elist=list()                                                     #declaration of list\n",
    "for i in range(n):                                               #for loop to read each elements \n",
    "    el=input(\"Enter element number %d:\"%(i+1))                   \n",
    "    elist.append(el)                                             #each element is appended to elist        \n",
    "  \n",
    "etuple=tuple(elist)                                              #converts elist to tuple                                     \n",
    "print(\"Entered tuple is:\",etuple)                                #displays the entered tuple\n",
    "\n",
    "item=input(\"Enter the intex to remove element:\")                 #reads the index to remove element\n",
    "ind=etuple.index(item)                                           #searches the element and stores index in ind\n",
    "\n",
    "newtuple=etuple[0:ind]+etuple[ind+1:]                            #stores all element except element to be removed in newtuple\n",
    "print(\"New tuple after removing the element is:\",newtuple)       #displays the tuple after removing that element \n"
   ]
  },
  {
   "cell_type": "code",
   "execution_count": 1,
   "metadata": {},
   "outputs": [
    {
     "name": "stdout",
     "output_type": "stream",
     "text": [
      "Enter number of elements:7\n",
      "Enter element number 1:12\n",
      "Enter element number 2:23\n",
      "Enter element number 3:34\n",
      "Enter element number 4:23\n",
      "Enter element number 5:45\n",
      "Enter element number 6:55\n",
      "Enter element number 7:33\n",
      "Entered tuple is: ('12', '23', '34', '23', '45', '55', '33')\n",
      "3rd element from first:  34\n",
      "3rd element from last : 45\n"
     ]
    }
   ],
   "source": [
    "#progrm to dispaly the first 3rd and last 3rd element of tuple\n",
    "n=int(input(\"Enter number of elements:\"))         #to input number of elements\n",
    "elist=list()                                      #declaration of list\n",
    "\n",
    "for i in range(n):                                #for loop to read each elements \n",
    "    el=input(\"Enter element number %d:\"%(i+1))\n",
    "    elist.append(el)                              #each element is appended to elist\n",
    "  \n",
    "etuple=tuple(elist)                               #converts elist to tuple                              \n",
    "print(\"Entered tuple is:\",etuple)                 #displays the entered tuple         \n",
    "\n",
    "print(\"3rd element from first: \",etuple[2])       #displays 3rd element from first\n",
    "print(\"3rd element from last :\",etuple[-3])       #displays 3rd last element from last"
   ]
  },
  {
   "cell_type": "code",
   "execution_count": null,
   "metadata": {},
   "outputs": [],
   "source": []
  }
 ],
 "metadata": {
  "kernelspec": {
   "display_name": "Python 3",
   "language": "python",
   "name": "python3"
  },
  "language_info": {
   "codemirror_mode": {
    "name": "ipython",
    "version": 3
   },
   "file_extension": ".py",
   "mimetype": "text/x-python",
   "name": "python",
   "nbconvert_exporter": "python",
   "pygments_lexer": "ipython3",
   "version": "3.8.0"
  }
 },
 "nbformat": 4,
 "nbformat_minor": 4
}
