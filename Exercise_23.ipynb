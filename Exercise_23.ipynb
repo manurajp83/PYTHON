{
 "cells": [
  {
   "cell_type": "code",
   "execution_count": 1,
   "metadata": {},
   "outputs": [],
   "source": [
    "#create an employee csv file with fields -employeeId,employeeName,DOB,salary\n",
    "\n",
    "import csv\n",
    "with open ('employee.csv','w',newline='')as f:\n",
    "    fn= ['employeid','employee name','DOB','salary']\n",
    "    writer = csv.DictWriter(f,fieldnames=fn)\n",
    "    \n",
    "    writer.writeheader()\n",
    "    writer.writerow({'employeid' : '1','employee name' :'adhi','DOB' :'2/2/1980','salary' : '2000'})\n",
    "    writer.writerow({'employeid' : '1','employee name' :'reena','DOB' :'4/5/1990','salary' : '4000'})\n",
    "    writer.writerow({'employeid' : '1','employee name' :'meera','DOB' :'2/8/1999','salary' : '3500'})"
   ]
  },
  {
   "cell_type": "code",
   "execution_count": 2,
   "metadata": {},
   "outputs": [
    {
     "name": "stdout",
     "output_type": "stream",
     "text": [
      "{'employeid': '1', 'employee name': 'adhi', 'DOB': '2/2/1980', 'salary': '2000'}\n",
      "{'employeid': '1', 'employee name': 'reena', 'DOB': '4/5/1990', 'salary': '4000'}\n",
      "{'employeid': '1', 'employee name': 'meera', 'DOB': '2/8/1999', 'salary': '3500'}\n"
     ]
    }
   ],
   "source": [
    "#1 write a python program to write a python dictonary to a csv file.after writing the csv file abd display\n",
    "import csv\n",
    "with open(\"employee.csv\",\"r\")as file:\n",
    "    csv_file = csv.DictReader(file)\n",
    "    for row in csv_file:\n",
    "        print(dict(row))\n"
   ]
  },
  {
   "cell_type": "code",
   "execution_count": 3,
   "metadata": {},
   "outputs": [
    {
     "name": "stdout",
     "output_type": "stream",
     "text": [
      "['employeid', 'employee name', 'DOB', 'salary']\n",
      "['1', 'adhi', '2/2/1980', '2000']\n",
      "['1', 'reena', '4/5/1990', '4000']\n",
      "['1', 'meera', '2/8/1999', '3500']\n"
     ]
    }
   ],
   "source": [
    "#2  write a python program to read each row from a given csv file and print strings\n",
    "import csv\n",
    "with open(\"employee.csv\",\"r\")as f:\n",
    "    reader=csv.reader(f)\n",
    "    for row in reader:\n",
    "        s=row\n",
    "        print(str(s))\n",
    "    "
   ]
  },
  {
   "cell_type": "code",
   "execution_count": 4,
   "metadata": {},
   "outputs": [],
   "source": [
    "#3\n",
    "import csv\n",
    "with open('department.csv','w',newline='')as f:\n",
    "    fn = ['DeptId','DeptName','total employees','location']\n",
    "    writer = csv.DictWriter(f,fieldnames=fn)\n",
    "    \n",
    "    writer.writeheader()\n",
    "    writer.writerow({'DeptId':'1','DeptName':'cleaning','total employees':'10','location':'1floor'})\n",
    "    writer.writerow({'DeptId':'2','DeptName':'management','total employees':'15','location':'3floor'})\n",
    "    writer.writerow({'DeptId':'3','DeptName':'frontdesk managements','total employees':'15','location':'ground floor'})"
   ]
  },
  {
   "cell_type": "code",
   "execution_count": 5,
   "metadata": {},
   "outputs": [
    {
     "name": "stdout",
     "output_type": "stream",
     "text": [
      "1 cleaning\n",
      "2 management\n",
      "3 frontdesk managements\n"
     ]
    }
   ],
   "source": [
    "import csv\n",
    "with open('department.csv','r')as f:\n",
    "    reader = csv.DictReader(f)\n",
    "    for row in reader:\n",
    "        print(row['DeptId'],row['DeptName'])\n",
    "        "
   ]
  },
  {
   "cell_type": "code",
   "execution_count": 27,
   "metadata": {},
   "outputs": [
    {
     "name": "stdout",
     "output_type": "stream",
     "text": [
      "enter the of first file:odd.txt\n",
      "first line\n",
      "third line\n",
      "fiveth line\n",
      "seventh line\n",
      "nineth line\n",
      "\n"
     ]
    }
   ],
   "source": [
    "#4\n",
    "file=input(\"enter the of first file:\")\n",
    "f=open(file,\"r\")\n",
    "w=open(\"oddonly.txt\",\"w\")\n",
    "line=f.readlines()#read the contents of file line by line\n",
    "for i in range(0,len(line)):\n",
    "    if(i%2!=0):\n",
    "        w.write(line[i])\n",
    "f.close()\n",
    "w.close()\n",
    "w=open(\"oddonly.txt\",\"r\")\n",
    "content=w.read()#read the content of the file\n",
    "print(content)\n",
    "w.close()\n",
    " "
   ]
  },
  {
   "cell_type": "code",
   "execution_count": null,
   "metadata": {},
   "outputs": [],
   "source": []
  }
 ],
 "metadata": {
  "kernelspec": {
   "display_name": "Python 3",
   "language": "python",
   "name": "python3"
  },
  "language_info": {
   "codemirror_mode": {
    "name": "ipython",
    "version": 3
   },
   "file_extension": ".py",
   "mimetype": "text/x-python",
   "name": "python",
   "nbconvert_exporter": "python",
   "pygments_lexer": "ipython3",
   "version": "3.8.0"
  }
 },
 "nbformat": 4,
 "nbformat_minor": 4
}
