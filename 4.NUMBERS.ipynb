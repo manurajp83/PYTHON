{
 "cells": [
  {
   "cell_type": "code",
   "execution_count": 1,
   "metadata": {},
   "outputs": [
    {
     "name": "stdout",
     "output_type": "stream",
     "text": [
      "Input radians: 10\n",
      "572.9577951308232\n"
     ]
    }
   ],
   "source": [
    "#program to convert radian to degree\n",
    "import math      #imports math function    \n",
    "radian = float(input(\"Input radians: \")) #to input value in radian\n",
    "degree = radian*(180/math.pi)            #converts to degree\n",
    "print(degree)                             #diaplays the degree"
   ]
  },
  {
   "cell_type": "code",
   "execution_count": 4,
   "metadata": {},
   "outputs": [
    {
     "name": "stdout",
     "output_type": "stream",
     "text": [
      "Enter value of a : 2\n",
      "Enter value of b : 6\n",
      "Enter value of c : 1\n",
      "Discriminant : 28\n"
     ]
    }
   ],
   "source": [
    "#program to find discriminant\n",
    "a,b,c=int(input(\"Enter value of a : \")),int(input(\"Enter value of b : \")),int(input(\"Enter value of c : \")) #to input values\n",
    "print(\"Discriminant :\",(b**2-4*a*c)) #displays after calculation\n"
   ]
  },
  {
   "cell_type": "code",
   "execution_count": null,
   "metadata": {},
   "outputs": [],
   "source": []
  },
  {
   "cell_type": "code",
   "execution_count": null,
   "metadata": {},
   "outputs": [],
   "source": []
  }
 ],
 "metadata": {
  "kernelspec": {
   "display_name": "Python 3",
   "language": "python",
   "name": "python3"
  },
  "language_info": {
   "codemirror_mode": {
    "name": "ipython",
    "version": 3
   },
   "file_extension": ".py",
   "mimetype": "text/x-python",
   "name": "python",
   "nbconvert_exporter": "python",
   "pygments_lexer": "ipython3",
   "version": "3.8.0"
  }
 },
 "nbformat": 4,
 "nbformat_minor": 4
}
