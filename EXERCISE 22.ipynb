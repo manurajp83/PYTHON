{
 "cells": [
  {
   "cell_type": "code",
   "execution_count": 28,
   "metadata": {},
   "outputs": [],
   "source": [
    "#PROGRAM TO COPY A TEXT FILE TO ANOTHER FILE\n",
    "f=open(\"file1.txt\",\"w\")\n",
    "f.write(\"THIS IS FIRST SENTENCE\\n\")\n",
    "f.write(\"THIS IS SECOND SENTENCE\\n\")\n",
    "f.close()"
   ]
  },
  {
   "cell_type": "code",
   "execution_count": 29,
   "metadata": {},
   "outputs": [
    {
     "name": "stdout",
     "output_type": "stream",
     "text": [
      "sucess\n"
     ]
    }
   ],
   "source": [
    "f=open(\"file1.txt\",\"r\")\n",
    "s=open(\"file2.txt\",\"w\")\n",
    "for l in f.readlines():\n",
    " s.write(l)\n",
    "s.close()\n",
    "f.close()\n",
    "print(\"success\")"
   ]
  },
  {
   "cell_type": "code",
   "execution_count": 33,
   "metadata": {},
   "outputs": [
    {
     "name": "stdout",
     "output_type": "stream",
     "text": [
      "The number of lines is  3\n"
     ]
    }
   ],
   "source": [
    "#PROGRAM TO COUNT NUMBER OF LINES IN A FILE\n",
    "f=open(\"file2.txt\",\"r\")\n",
    "l=f.read()\n",
    "count=0\n",
    "w=l.split(\"\\n\")\n",
    "for l in w:\n",
    "    count=count+1\n",
    "print(\"The number of lines is \",count)    "
   ]
  },
  {
   "cell_type": "code",
   "execution_count": 39,
   "metadata": {},
   "outputs": [],
   "source": [
    "#PROGRAM TO APPEND A FILE WITH ANOTHER FILE\n",
    "f=open(\"file1.txt\",\"r\")\n",
    "r=f.read()\n",
    "s=open(\"file4.txt\",\"a+\")\n",
    "s.write(r)\n",
    "s.write(\"this text is appended\\n\")\n",
    "\n",
    "s.close()\n",
    "f.close()"
   ]
  },
  {
   "cell_type": "code",
   "execution_count": 2,
   "metadata": {},
   "outputs": [
    {
     "name": "stdout",
     "output_type": "stream",
     "text": [
      "Enter the name of first file file5.txt\n",
      "Longest word: notebook\n"
     ]
    }
   ],
   "source": [
    "#program to find th longest word\n",
    "file=input(\"Enter the name of first file \")\n",
    "f=open(file,\"r\")\n",
    "line=f.read()\n",
    "words=line.split(\" \")\n",
    "length=len(words)\n",
    "l=words[0]\n",
    "for i in range (1,length):\n",
    "    if(len(words[i])>len(l)):\n",
    "      l=words[i]\n",
    "print(\"Longest word:\",l)    "
   ]
  },
  {
   "cell_type": "code",
   "execution_count": 5,
   "metadata": {},
   "outputs": [
    {
     "name": "stdout",
     "output_type": "stream",
     "text": [
      "Enter the name of filefile1.txt\n",
      "THIS IS FIRST SENTENCE\n",
      "THIS IS SECOND SENTENCE\n",
      "\n"
     ]
    }
   ],
   "source": [
    "#program to read a file line by line stored in a list\n",
    "file=input(\"Enter the name of file\")\n",
    "f=open(file,\"r\")\n",
    "line=f.read()\n",
    "lines=line.split(\"\\n\")\n",
    "for line in lines:\n",
    "    print(line)\n",
    "f.close()    \n"
   ]
  },
  {
   "cell_type": "code",
   "execution_count": null,
   "metadata": {},
   "outputs": [],
   "source": []
  }
 ],
 "metadata": {
  "kernelspec": {
   "display_name": "Python 3",
   "language": "python",
   "name": "python3"
  },
  "language_info": {
   "codemirror_mode": {
    "name": "ipython",
    "version": 3
   },
   "file_extension": ".py",
   "mimetype": "text/x-python",
   "name": "python",
   "nbconvert_exporter": "python",
   "pygments_lexer": "ipython3",
   "version": "3.8.0"
  }
 },
 "nbformat": 4,
 "nbformat_minor": 4
}
