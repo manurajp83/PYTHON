{
 "cells": [
  {
   "cell_type": "code",
   "execution_count": 3,
   "metadata": {},
   "outputs": [],
   "source": [
    "# Create a package graphics with modules rectangle, circle and sub-package 3D-graphics with modules\n",
    "# cuboid and sphere. Include methods to find area and perimeter of respective figures in each module.\n",
    "# Write programs that finds area and perimeter of figures by different importing statements.\n",
    "# (Include selective import of modules and import * statements)"
   ]
  },
  {
   "cell_type": "code",
   "execution_count": 4,
   "metadata": {},
   "outputs": [
    {
     "name": "stdout",
     "output_type": "stream",
     "text": [
      "Enter length of cuboid  : 2\n",
      "Enter width of cuboid   : 3\n",
      "Enter height of cuboid  : 6\n",
      "AREA :  72\n",
      "PERIMETER :  44\n"
     ]
    }
   ],
   "source": [
    "# AREA AND PERIMETER OF CUBOID\n",
    "\n",
    "from graphics._3D_graphics import cuboid   #IMPORTING CUBOID MODULE FROM SUB-PACKAGE '_3d_graphics'\n",
    "\n",
    "length =  int(input(\"Enter length of cuboid  : \"))\n",
    "width  =  int(input(\"Enter width of cuboid   : \"))\n",
    "height =  int(input(\"Enter height of cuboid  : \"))\n",
    "\n",
    "print(\"AREA : \",cuboid.area(length,width,height)) #CALLLING 'area' FUNCTION INSIDE CUBOID MODULE\n",
    "print(\"PERIMETER : \",cuboid.perimeter(length,width,height))#CALLING 'perimeter' FUNCTION INSIDE CUBOID MODULE\n",
    "      \n"
   ]
  },
  {
   "cell_type": "code",
   "execution_count": 6,
   "metadata": {},
   "outputs": [
    {
     "name": "stdout",
     "output_type": "stream",
     "text": [
      "Enter Radius of Sphere : 5\n",
      "AREA :  314.16\n",
      "PERIMETER :  523.6\n"
     ]
    }
   ],
   "source": [
    "# AREA AND PERIMETER OF SPHERE\n",
    "\n",
    "from graphics._3D_graphics import sphere #IMPORTING SPHERE MODULE FROM SUB-PACKAGE '_3d_graphics'\n",
    "\n",
    "radius = int(input(\"Enter Radius of Sphere : \"))\n",
    "\n",
    "print(\"AREA : \",round(sphere.area(radius),2))\n",
    "print(\"PERIMETER : \",round(sphere.perimeter(radius),2))\n",
    "\n"
   ]
  },
  {
   "cell_type": "code",
   "execution_count": 7,
   "metadata": {},
   "outputs": [
    {
     "name": "stdout",
     "output_type": "stream",
     "text": [
      "Eneter radius of circle  : 12\n",
      "AREA :  452.39\n",
      "PERIMETER :  75.4\n"
     ]
    }
   ],
   "source": [
    "# AREA AND PERIMETER OF CICRLE\n",
    "from graphics.circle import area # IMPORTING area FUNTCTION FROM CIRCLE MODULE\n",
    "from graphics.circle import perimeter #IMPORTING perimeter FUNCTION FROM CIRCLE MODULE\n",
    "\n",
    "radius=int(input(\"Eneter radius of circle  : \"))\n",
    "print(\"AREA : \", round(area(radius),2))\n",
    "print(\"PERIMETER : \",round(perimeter(radius),2))\n"
   ]
  },
  {
   "cell_type": "code",
   "execution_count": 8,
   "metadata": {},
   "outputs": [
    {
     "name": "stdout",
     "output_type": "stream",
     "text": [
      "Enter length of rectangle : 6\n",
      "Enter width of rectangle : 4\n",
      "AREA :  24\n",
      "PERIMETER :  20\n"
     ]
    }
   ],
   "source": [
    "# AREA AND PERIMETER OF RECTANGLE \n",
    "\n",
    "import graphics.rectangle    #IMPORTING rectangle module\n",
    "\n",
    "length=int(input(\"Enter length of rectangle : \"))\n",
    "width=int(input(\"Enter width of rectangle : \"))\n",
    "\n",
    "print(\"AREA : \",graphics.rectangle.area(length,width))           #  HERE USING THE FULLNAME \n",
    "print(\"PERIMETER : \",graphics.rectangle.perimeter(length,width)) #  TO REFERENCE THE 'area' & 'perimeter' FUNCTION\n",
    "\n",
    "\n",
    "\n"
   ]
  },
  {
   "cell_type": "code",
   "execution_count": null,
   "metadata": {},
   "outputs": [],
   "source": []
  }
 ],
 "metadata": {
  "kernelspec": {
   "display_name": "Python 3",
   "language": "python",
   "name": "python3"
  },
  "language_info": {
   "codemirror_mode": {
    "name": "ipython",
    "version": 3
   },
   "file_extension": ".py",
   "mimetype": "text/x-python",
   "name": "python",
   "nbconvert_exporter": "python",
   "pygments_lexer": "ipython3",
   "version": "3.8.0"
  }
 },
 "nbformat": 4,
 "nbformat_minor": 4
}
