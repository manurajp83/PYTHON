{
 "cells": [
  {
   "cell_type": "code",
   "execution_count": 27,
   "metadata": {
    "scrolled": true
   },
   "outputs": [
    {
     "name": "stdout",
     "output_type": "stream",
     "text": [
      "current date: 2021-01-19\n",
      "5 days before current date: 2021-01-14\n"
     ]
    }
   ],
   "source": [
    "#1.substract 5 days from current date\n",
    "\n",
    "from datetime import datetime,timedelta\n",
    "\n",
    "#1.substract 5 days from current date\n",
    "dt=date.today() - timedelta(5)\n",
    "print('current date:',date.today())\n",
    "print('5 days before current date:',dt)\n",
    "\n",
    "\n"
   ]
  },
  {
   "cell_type": "code",
   "execution_count": 24,
   "metadata": {},
   "outputs": [
    {
     "name": "stdout",
     "output_type": "stream",
     "text": [
      "2021-01-19\n",
      "2021-01-20\n",
      "2021-01-21\n",
      "2021-01-22\n",
      "2021-01-23\n"
     ]
    }
   ],
   "source": [
    "#to print 5 days start from today\n",
    "from datetime import date\n",
    "today = date.today()\n",
    "for i in range(5):\n",
    "    print(today+timedelta(days=i))"
   ]
  },
  {
   "cell_type": "code",
   "execution_count": 26,
   "metadata": {},
   "outputs": [
    {
     "name": "stdout",
     "output_type": "stream",
     "text": [
      "yesterday: 2021-01-18\n",
      "today: 2021-01-19\n",
      "tomorrow: 2021-01-20\n"
     ]
    }
   ],
   "source": [
    "#2.to print yesterday,today,and tomorrow\n",
    "from datetime import date,timedelta\n",
    "today=date.today()\n",
    "yesterday=today - timedelta(days=1)\n",
    "tomorrow=today + timedelta(days=1)\n",
    "print('yesterday:',yesterday)\n",
    "print('today:',today)\n",
    "print('tomorrow:',tomorrow)\n",
    "\n"
   ]
  },
  {
   "cell_type": "code",
   "execution_count": 2,
   "metadata": {},
   "outputs": [
    {
     "name": "stdout",
     "output_type": "stream",
     "text": [
      "586\n"
     ]
    }
   ],
   "source": [
    "#4.to find of days in between 2 given date\n",
    "from datetime import date\n",
    "fdate=date(2022, 1, 8)\n",
    "ldate=date(2023, 8, 17)\n",
    "delta=date(2023, 8, 17)\n",
    "delta = ldate - fdate\n",
    "print(delta.days)"
   ]
  },
  {
   "cell_type": "code",
   "execution_count": null,
   "metadata": {},
   "outputs": [],
   "source": []
  }
 ],
 "metadata": {
  "kernelspec": {
   "display_name": "Python 3",
   "language": "python",
   "name": "python3"
  },
  "language_info": {
   "codemirror_mode": {
    "name": "ipython",
    "version": 3
   },
   "file_extension": ".py",
   "mimetype": "text/x-python",
   "name": "python",
   "nbconvert_exporter": "python",
   "pygments_lexer": "ipython3",
   "version": "3.8.0"
  }
 },
 "nbformat": 4,
 "nbformat_minor": 4
}
