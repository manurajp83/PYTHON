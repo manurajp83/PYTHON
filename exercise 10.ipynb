{
 "cells": [
  {
   "cell_type": "code",
   "execution_count": 4,
   "metadata": {},
   "outputs": [
    {
     "name": "stdout",
     "output_type": "stream",
     "text": [
      "Enter a string:adarsh123\n",
      "\n",
      "---------------OUTPUT-------------------\n",
      "\n",
      "Number of digits is 3 and charcters is 6\n"
     ]
    }
   ],
   "source": [
    "#program to accept a string and calculate no. of diits and character\n",
    "str=input(\"Enter a string:\")                                      #to input string\n",
    "d=0;c=0                                                           #declaration of variables\n",
    "for i in str:                                                     #for loop to acess all characters and digits\n",
    "    if i.isdigit():                                               #checks if it is digits\n",
    "      d=d+1                                                       #if true increments the d variable\n",
    "    elif i.isalpha():                                             #checks whteher it is alphabets  \n",
    "      c=c+1                                                       #increrments the count\n",
    "print(\"\\n---------------OUTPUT-------------------\\n\")             #output message \n",
    "print(\"Number of digits is %d and charcters is %d\"%(d,c))         #display the count along with characters"
   ]
  },
  {
   "cell_type": "code",
   "execution_count": 6,
   "metadata": {},
   "outputs": [
    {
     "name": "stdout",
     "output_type": "stream",
     "text": [
      "\n",
      "-------OUTPUT--------\n",
      "\n",
      "0\n",
      "1\n",
      "3\n",
      "4\n",
      "6\n",
      "7\n",
      "8\n",
      "9\n",
      "10\n"
     ]
    }
   ],
   "source": [
    "#program to print number from 0 to 10 except 2 and 5\n",
    "print(\"\\n-------OUTPUT--------\\n\")                               #output message\n",
    "for i in range(11):                                              #for loop takes value from 0 to 10\n",
    " if i==2 or i==5:                                                #if condition to discards 2 and 5 and print the rest of numbers\n",
    "    continue                                                     #to exit from if loop and continue the for loop \n",
    " else:                                                           #else case\n",
    "    print(i)                                                     #print the rest of the numbers "
   ]
  },
  {
   "cell_type": "code",
   "execution_count": 1,
   "metadata": {},
   "outputs": [
    {
     "name": "stdout",
     "output_type": "stream",
     "text": [
      "Enter the number of elements of the list:5\n",
      "Enter the element number 1 :8\n",
      "Enter the element number 2 :9\n",
      "Enter the element number 3 :7\n",
      "Enter the element number 4 :6\n",
      "Enter the element number 5 :4\n",
      "\n",
      "------------OUTPUT------------\n",
      "\n",
      "Entered list is: [8, 9, 7, 6, 4]\n",
      "Sum of elements in list is: 34\n"
     ]
    }
   ],
   "source": [
    "#program to find the sum of all items of list \n",
    "element=int(input(\"Enter the number of elements of the list:\")#to input number of elements         \n",
    "new=list()                                                     #to store elements as list  \n",
    "s=0                                                            #declaration of s variable \n",
    "for i in range(element):                                       #for loop to acess the elements till the number of elements entered\n",
    "    item=int(input(\"Enter the element number %d :\"%(i+1)))     #to input elements\n",
    "    new.append(item)                                           #to sore elements in new  \n",
    "    s=s+new[i]                                                 #to find the sum of all elements\n",
    "print(\"\\n------------OUTPUT------------\\n\")                    #output message\n",
    "print(\"Entered list is:\",new)                                  #to print the entered list\n",
    "print(\"Sum of elements in list is:\",s)                         #to display the sum of elements in thbe list "
   ]
  },
  {
   "cell_type": "code",
   "execution_count": 7,
   "metadata": {},
   "outputs": [
    {
     "name": "stdout",
     "output_type": "stream",
     "text": [
      "Enter the no of steps:6\n",
      "\n",
      "------------OUTPUT---------------\n",
      "\n",
      "1 \n",
      "2 4 \n",
      "3 6 9 \n",
      "4 8 12 16 \n",
      "5 10 15 20 25 \n",
      "6 12 18 24 30 36 "
     ]
    }
   ],
   "source": [
    "#program to print the given pyramid with steps number entered by the user\n",
    "#eg:n=4\n",
    "#1\n",
    "#2 4\n",
    "#3 6 9\n",
    "#4 8 12\n",
    "n=int(input(\"Enter the no of steps:\"))                    #to enter number of steps \n",
    "print(\"\\n------------OUTPUT---------------\")              #output meassage\n",
    "count=1                                                   #declaration od count variable and assigning value 1 \n",
    "for i in range(n):                                        #for loop i iterates from 0-n ie.number entered by the user   \n",
    "    print(\"\")                                             #to start a new line\n",
    "    for j in range( n):                                   #for loop j iterates from 0-n ie.number entered by the user \n",
    "        if(j<=i):                                         #checks if j<=i\n",
    "          print((i+1)*(j+1),'',end=(\"\"))                  #print the output after multiplying i and j\n",
    "   \n",
    "\n",
    "             "
   ]
  },
  {
   "cell_type": "code",
   "execution_count": 1,
   "metadata": {},
   "outputs": [
    {
     "name": "stdout",
     "output_type": "stream",
     "text": [
      "Please enter a string:elephant\n",
      "\n",
      "***********OUTPUT************\n",
      "\n",
      "Frequency of e is 2\n",
      "Frequency of l is 1\n",
      "Frequency of p is 1\n",
      "Frequency of h is 1\n",
      "Frequency of a is 1\n",
      "Frequency of n is 1\n",
      "Frequency of t is 1\n"
     ]
    }
   ],
   "source": [
    "#program to count the number of characters in a string\n",
    "st=input(\"Please enter a string:\")                      #to input string\n",
    "new=list()                                              #decalaration of new to a list()\n",
    "final=list()                                            #declaration of final to a list() to avoid repetation of character count\n",
    "print(\"\\n***********OUTPUT************\\n\")              #outut message\n",
    "for i in st:                                            #for loop to access characters\n",
    "    c=0                                                 #for counting each characters \n",
    "    for j in st:                                        #for loop to access characters\n",
    "     if i==j:                                           #compares characters \n",
    "        c=c+1                                           #counts the characters\n",
    "    new.append(\"Frequency of %s is %d\"%(i,c))           #stores to new and displays \n",
    "for i in new:                                           #checks if there is any repeatation of characters\n",
    "    if i not in final:                                  #checks if the charcter is not present in final,to avoid repetation\n",
    "        final.append(i)                                 #stores in final\n",
    "for i in final:                                          #for loop to print final list  \n",
    " print(i)"
   ]
  },
  {
   "cell_type": "code",
   "execution_count": 1,
   "metadata": {},
   "outputs": [
    {
     "name": "stdout",
     "output_type": "stream",
     "text": [
      "-------OUTPUT------\n",
      "\n",
      "*\n",
      "**\n",
      "***\n",
      "****\n",
      "*****\n",
      "****\n",
      "***\n",
      "**\n",
      "*"
     ]
    }
   ],
   "source": [
    "#program to print a pattern using nested loop\n",
    "#*\n",
    "#**\n",
    "#***\n",
    "#****\n",
    "#*****\n",
    "#****\n",
    "#***\n",
    "#**\n",
    "#*\n",
    "\n",
    "#to print top half stars ie from 1 to 5 \n",
    "print(\"-------OUTPUT------\")           #output message\n",
    "for i in range(1,5):                   #outer for loop to print * from 1 to 5 \n",
    " print(\"\")                             #to print a new line  as i value changes\n",
    " for j in range(i):                    #inner for loop to print number of * \n",
    "  print(\"*\",end=\"\")                    #end is used to print horizontaly without going to next line\n",
    "\n",
    "#to print remaining half stars ie from 5 to 1 \n",
    "for i in range(5,0,-1):                #outer for loop to print * from 5 to 1\n",
    " print(\"\")                             #to print a new line as i value changes\n",
    " for j in range(i):                    #inner for loop to print number of * \n",
    "      print(\"*\",end=\"\")                #end is used to print horizontaly without going to next line\n",
    "                "
   ]
  },
  {
   "cell_type": "code",
   "execution_count": null,
   "metadata": {},
   "outputs": [],
   "source": []
  },
  {
   "cell_type": "code",
   "execution_count": null,
   "metadata": {},
   "outputs": [],
   "source": []
  }
 ],
 "metadata": {
  "kernelspec": {
   "display_name": "Python 3",
   "language": "python",
   "name": "python3"
  },
  "language_info": {
   "codemirror_mode": {
    "name": "ipython",
    "version": 3
   },
   "file_extension": ".py",
   "mimetype": "text/x-python",
   "name": "python",
   "nbconvert_exporter": "python",
   "pygments_lexer": "ipython3",
   "version": "3.8.0"
  }
 },
 "nbformat": 4,
 "nbformat_minor": 4
}
