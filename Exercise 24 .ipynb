{
 "cells": [
  {
   "cell_type": "code",
   "execution_count": 1,
   "metadata": {},
   "outputs": [
    {
     "name": "stdout",
     "output_type": "stream",
     "text": [
      "Enter the Length of Rectangle 1   :8\n",
      "Enter the Breadth of Rectangle 1 :5\n",
      "AREA OF RECTANGLE 1       :  40\n",
      "PERIMETER OF RECTANGLE 1  :  26\n",
      "\n",
      "Enter the Length of Rectangle 2 :6\n",
      "Enter the Breadth of Rectangle 2 :3\n",
      "AREA OF RECTANGLE 2       :  18\n",
      "PERIMETER OF RECTANGLE 2  :  18\n",
      "BOTH DONT HAVE SAME AREA\n"
     ]
    }
   ],
   "source": [
    "#1.Create Rectangle  class with attributes length and breadth and methods to find area and perimeter.compare two Rectangle objects by their area\n",
    "\n",
    "\n",
    "class Rectangle():           #create class rectangle\n",
    "    def getval(self,length,breadth):\n",
    "        self.length=length\n",
    "        self.breadth=breadth\n",
    "        \n",
    "       \n",
    "    def  area(self):          #function to calculate area \n",
    "        return self.length*self.breadth\n",
    " \n",
    "    def perimeter(self):      #function to calculate perimeter  \n",
    "        return 2*(self.length+self.breadth)\n",
    "    \n",
    "    \n",
    "Rectangle1=Rectangle()        #rectangle1 obejct created  \n",
    "\n",
    "length=(int(input(\"Enter the Length of Rectangle 1   :\")))  #Reading length and breadth\n",
    "breadth=(int(input(\"Enter the Breadth of Rectangle 1 :\")))\n",
    "\n",
    "Rectangle1.getval(length,breadth)\n",
    "\n",
    "print(\"AREA OF RECTANGLE 1       : \",Rectangle1.area())\n",
    "print(\"PERIMETER OF RECTANGLE 1  : \",Rectangle1.perimeter())\n",
    "\n",
    "\n",
    "Rectangle2=Rectangle()      #rectangle1 obejct created  \n",
    "\n",
    "length=(int(input(\"\\nEnter the Length of Rectangle 2 :\")))\n",
    "breadth=(int(input(\"Enter the Breadth of Rectangle 2 :\")))\n",
    "\n",
    "Rectangle2.getval(length,breadth)\n",
    "\n",
    "print(\"AREA OF RECTANGLE 2       : \",Rectangle2.area())\n",
    "print(\"PERIMETER OF RECTANGLE 2  : \",Rectangle2.perimeter())\n",
    "\n",
    "\n",
    "if(Rectangle2.area()==Rectangle1.area()): #Comparing areas\n",
    "    print(\"BOTH HAVE SAME AREA\")\n",
    "else:#\n",
    "    print(\"BOTH DONT HAVE SAME AREA\")\n",
    "\n",
    "    "
   ]
  },
  {
   "cell_type": "code",
   "execution_count": null,
   "metadata": {},
   "outputs": [],
   "source": []
  }
 ],
 "metadata": {
  "kernelspec": {
   "display_name": "Python 3",
   "language": "python",
   "name": "python3"
  },
  "language_info": {
   "codemirror_mode": {
    "name": "ipython",
    "version": 3
   },
   "file_extension": ".py",
   "mimetype": "text/x-python",
   "name": "python",
   "nbconvert_exporter": "python",
   "pygments_lexer": "ipython3",
   "version": "3.8.0"
  }
 },
 "nbformat": 4,
 "nbformat_minor": 4
}
