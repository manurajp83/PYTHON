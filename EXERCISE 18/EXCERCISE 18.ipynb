{
 "cells": [
  {
   "cell_type": "code",
   "execution_count": 1,
   "metadata": {},
   "outputs": [
    {
     "name": "stdout",
     "output_type": "stream",
     "text": [
      "Enter radius circle : 12\n",
      "AREA OF CIRCLE      :  452.39\n",
      "PERIMETER OF CIRCLE :  75.4\n",
      "Enter length of rectangle  : 13\n",
      "Enter width of rectangle   : 10\n",
      "AREA OF RECTANGLE      :  130\n",
      "PERIMETER OF RECTANGLE :  46\n"
     ]
    }
   ],
   "source": [
    "# Create modules Rectangle, Circle. Include methods to find area and perimeter of respective figures in each module. Write\n",
    "# programs that finds area and perimeter of figures by different importing statements. (Include selective import of modules\n",
    "# and import * statements)\n",
    "\n",
    "import circle   #importing circular module\n",
    "import rectangle  #importing rectangle module\n",
    "\n",
    "radius=int(input(\"Enter radius circle : \"))\n",
    "print(\"AREA OF CIRCLE      : \",round(circle.area(radius),2)) #calling function from circle module\n",
    "print(\"PERIMETER OF CIRCLE : \",round(circle.perimeter(radius),2)) #calling functionn form circle module\n",
    "length=int(input(\"Enter length of rectangle  : \"))\n",
    "width=int(input(\"Enter width of rectangle   : \"))\n",
    "print(\"AREA OF RECTANGLE      : \",rectangle.area(width,length)) #calling function from rectagnle module\n",
    "print(\"PERIMETER OF RECTANGLE : \",rectangle.perimeter(width,length)) #calling sunction form rectangle module\n",
    "\n",
    "\n",
    "# OUTPUT\n",
    "# ------\n",
    "# Enter radius circle :  12\n",
    "# AREA OF CIRCLE      :  452.39\n",
    "# PERIMETER OF CIRCLE :  75.4\n",
    "# Enter length of rectangle  :  12\n",
    "# Enter width of rectangle   :  11\n",
    "# AREA OF RECTANGLE      :  132\n",
    "# PERIMETER OF RECTANGLE :  46"
   ]
  },
  {
   "cell_type": "code",
   "execution_count": null,
   "metadata": {},
   "outputs": [],
   "source": []
  }
 ],
 "metadata": {
  "kernelspec": {
   "display_name": "Python 3",
   "language": "python",
   "name": "python3"
  },
  "language_info": {
   "codemirror_mode": {
    "name": "ipython",
    "version": 3
   },
   "file_extension": ".py",
   "mimetype": "text/x-python",
   "name": "python",
   "nbconvert_exporter": "python",
   "pygments_lexer": "ipython3",
   "version": "3.8.0"
  }
 },
 "nbformat": 4,
 "nbformat_minor": 4
}
