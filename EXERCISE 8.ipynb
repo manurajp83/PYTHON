{
 "cells": [
  {
   "cell_type": "code",
   "execution_count": 4,
   "metadata": {},
   "outputs": [
    {
     "name": "stdout",
     "output_type": "stream",
     "text": [
      "Enter the age of first person:78\n",
      "Enter the age of second person:12\n",
      "Enter the age of third person:56\n",
      "oldest : first person\n",
      "youngest : Second person\n"
     ]
    }
   ],
   "source": [
    "#program to input age of three people by user and determine oldest and youngest\n",
    "a=int(input(\"Enter the age of first person:\"))#to input 1st age\n",
    "b=int(input(\"Enter the age of second person:\"))#to input 2nd age\n",
    "c=int(input(\"Enter the age of third person:\")) #to input 3rd age\n",
    "if (a>b and a>c): #first if statement\n",
    "  print(\"oldest : first person\")\n",
    "elif (b>c and b>a): #nested if\n",
    "  print(\"oldest : second person\")\n",
    "else:\n",
    "  print(\"Oldest : third person\")\n",
    "if (a<b and a<c):\n",
    "  print(\"Youngest is First person\")\n",
    "elif (b<a and b<c):\n",
    "  print(\"youngest : Second person\")\n",
    "else :\n",
    "\n",
    "  print(\"youngest : Third person\")\n",
    "\n",
    "\n"
   ]
  },
  {
   "cell_type": "code",
   "execution_count": 5,
   "metadata": {},
   "outputs": [
    {
     "name": "stdout",
     "output_type": "stream",
     "text": [
      "Enter the quantity required:10\n",
      "Enter the cost price of product:2000\n",
      "Total cost is: 18000.00\n"
     ]
    }
   ],
   "source": [
    "#program to find total cost from given cost\n",
    "n=int(input(\"Enter the quantity required:\"))#to input quantity required\n",
    "m=int(input(\"Enter the cost price of product:\"))#to input price of product\n",
    "t=n*m\n",
    "if t>1000:\n",
    " d=(t*90)/100\n",
    "else:\n",
    " d=t\n",
    "print(\"Total cost is: %.2f\"%d) \n",
    " "
   ]
  },
  {
   "cell_type": "code",
   "execution_count": 6,
   "metadata": {},
   "outputs": [
    {
     "name": "stdout",
     "output_type": "stream",
     "text": [
      "Enter no. of years in service: 6\n",
      "Enter your salary:2000\n",
      "Net amount:2100.00\n"
     ]
    }
   ],
   "source": [
    "#program to input user salary and year of service and print net bonus payment\n",
    "n=int(input(\"Enter no. of years in service: \"))\n",
    "s=int(input(\"Enter your salary:\"))\n",
    "if n>5:\n",
    " b=(105*s)/100\n",
    "else :\n",
    " b=s\n",
    "print(\"Net amount:%.2f\"%b) \n",
    "\n"
   ]
  },
  {
   "cell_type": "code",
   "execution_count": 1,
   "metadata": {},
   "outputs": [
    {
     "name": "stdout",
     "output_type": "stream",
     "text": [
      "Enter the marks:75\n",
      "Grade: B\n"
     ]
    }
   ],
   "source": [
    "#program to enter marks by the user and print corresponding grade\n",
    "n=int(input(\"Enter the marks:\")) #to input marks\n",
    "if n>=80:                        #condition if n>80\n",
    " g='A'\n",
    "elif n>=60 and n<80:\n",
    " g='B'\n",
    "elif n>=50 and n<60:\n",
    " g='C'\n",
    "elif n>=45 and n<50:\n",
    " g='D'\n",
    "elif n>=25 and n<45:\n",
    "  g='E'\n",
    "else:\n",
    "  g='F'\n",
    "print(\"Grade:\",g)    #to display grade\n",
    "\n",
    "\"\""
   ]
  },
  {
   "cell_type": "code",
   "execution_count": 1,
   "metadata": {},
   "outputs": [
    {
     "name": "stdout",
     "output_type": "stream",
     "text": [
      "Enter three sides of triangle \n",
      "2\n",
      "3\n",
      "5\n",
      "Scalene triangle\n"
     ]
    }
   ],
   "source": [
    "#program to check triangle is equilateral ,scalene or isoceles\n",
    "print(\"Enter three sides of triangle \")\n",
    "x,y,z=int(input()),int(input()),int(input()) #to read 3 sides of triangle\n",
    "if x==y==z:\n",
    "  print(\"Equilateral triangle\")\n",
    "elif x!=y and z!= x and y!=z :\n",
    "  print(\"Scalene triangle\")\n",
    "else:\n",
    "   print(\"Isosless triangle\")\n"
   ]
  },
  {
   "cell_type": "code",
   "execution_count": 5,
   "metadata": {},
   "outputs": [
    {
     "name": "stdout",
     "output_type": "stream",
     "text": [
      "Enter the month name:august\n",
      "30 DAYS\n"
     ]
    }
   ],
   "source": [
    "#program to convert month name to a number of days\n",
    "m=input(\"Enter the month name:\") #reading month name\n",
    "mon=m.upper()                          #convert the givenstring to upper function\n",
    "if mon==\"JANUARY\":                     # if and else blocks starts from here\n",
    " print(\"31 DAYS\")\n",
    "elif mon==\"FEBRUARY\":\n",
    " print(\"28 DAYS in a c0ommonyaer and 29 DAYS in leap year\")\n",
    "elif mon==\"MARCH\":\n",
    " print(\"31 DAYS\")\n",
    "elif mon==\"APRIL\":\n",
    " print(\"30 DAYS\")\n",
    "elif mon==\"MAY\":\n",
    " print(\"31 DAYS\")\n",
    "elif mon==\"JUNE\":\n",
    " print(\"30 DAYS\")\n",
    "elif mon==\"JULY\":\n",
    " print(\"31 DAYS\")\n",
    "elif mon==\"AUGUST\":\n",
    " print(\"30 DAYS\")\n",
    "elif mon==\"SEPTEMBER\":\n",
    " print(\"31 DAYS\")\n",
    "elif mon==\"NOVEMBER\":\n",
    " print(\"30 DAYS\")\n",
    "elif mon==\"DECEMBER\":\n",
    " print(\"31 DAYS\")\n",
    "else:\n",
    " print(\"INVALID\")   "
   ]
  },
  {
   "cell_type": "code",
   "execution_count": 1,
   "metadata": {},
   "outputs": [
    {
     "name": "stdout",
     "output_type": "stream",
     "text": [
      "Enter three numbers for finding Median \n",
      "98\n",
      "78\n",
      "63\n",
      "Median =  78\n"
     ]
    }
   ],
   "source": [
    "#Write a Python program to find the median of three values.\n",
    "print(\"Enter three numbers for finding Median \")\n",
    "a,b,c=int(input()),int(input()),int(input())\n",
    "if (a>b and a<c) or (a>c and a<b) :   #checking is 'a'  grater than 'b' , 'a' is less than 'c' or 'a' less than 'b' , 'a' grater than 'c' \n",
    "    print(\"Median = \",a)\n",
    "elif (b>a and b<c) or (b>c and b<a) : #checking is 'b' grater  than 'a' , 'b' less than 'c' or 'b' is less than 'c' , 'b' is grater than 'a'  \n",
    "    print(\"Median = \",b)\n",
    "else :\n",
    "    print(\"Median = \",c)              # if both above conditons fail then c will be the median"
   ]
  },
  {
   "cell_type": "code",
   "execution_count": null,
   "metadata": {},
   "outputs": [],
   "source": []
  },
  {
   "cell_type": "code",
   "execution_count": null,
   "metadata": {},
   "outputs": [],
   "source": []
  }
 ],
 "metadata": {
  "kernelspec": {
   "display_name": "Python 3",
   "language": "python",
   "name": "python3"
  },
  "language_info": {
   "codemirror_mode": {
    "name": "ipython",
    "version": 3
   },
   "file_extension": ".py",
   "mimetype": "text/x-python",
   "name": "python",
   "nbconvert_exporter": "python",
   "pygments_lexer": "ipython3",
   "version": "3.8.0"
  }
 },
 "nbformat": 4,
 "nbformat_minor": 4
}
