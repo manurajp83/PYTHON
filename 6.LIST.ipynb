{
 "cells": [
  {
   "cell_type": "code",
   "execution_count": 1,
   "metadata": {},
   "outputs": [
    {
     "name": "stdout",
     "output_type": "stream",
     "text": [
      "Enter some numbers seperated by comma2,5,8,5,6,4\n",
      "list is ['2', '5', '8', '5', '6', '4']\n"
     ]
    }
   ],
   "source": [
    "#program which accept sequence of comma seperated numbers from user\n",
    "num=input(\"Enter some numbers seperated by comma\") \n",
    "list=num.split(',')                      \n",
    "print(\"list is\",list)"
   ]
  },
  {
   "cell_type": "code",
   "execution_count": 2,
   "metadata": {},
   "outputs": [
    {
     "name": "stdout",
     "output_type": "stream",
     "text": [
      "Enter file name with extension:test.txt\n",
      "Extension of file is: ['txt']\n"
     ]
    }
   ],
   "source": [
    "#program to accept a filename from the user,print extension of that\n",
    "file=input(\"Enter file name with extension:\")\n",
    "ext=file.split(\".\")\n",
    "print(\"Extension of file is:\",ext[-1:])"
   ]
  },
  {
   "cell_type": "code",
   "execution_count": 8,
   "metadata": {},
   "outputs": [
    {
     "name": "stdout",
     "output_type": "stream",
     "text": [
      "Enter the colors seperated by commared,blue,green,pink\n",
      "color list: ['red', 'blue', 'green', 'pink']\n",
      "first color in the list is: red\n",
      "second color in the list is: pink\n"
     ]
    }
   ],
   "source": [
    "#program to display first and last colors of a colors list\n",
    "list=input(\"Enter the colors seperated by comma\")\n",
    "col=list.split(',')\n",
    "print(\"color list:\",col)\n",
    "print(\"first color in the list is:\",col[0])\n",
    "print(\"second color in the list is:\",col[-1])"
   ]
  },
  {
   "cell_type": "code",
   "execution_count": 13,
   "metadata": {},
   "outputs": [
    {
     "name": "stdout",
     "output_type": "stream",
     "text": [
      "Enter the string:tomato\n",
      "new string is: toma$o\n"
     ]
    }
   ],
   "source": [
    "#program to get string from user and all occurences of its first char except the first char changed to $\n",
    "str=input(\"Enter the string:\")\n",
    "f=str[0]\n",
    "c=str[1:]\n",
    "r=f+c.replace(f,\"$\")\n",
    "print(\"new string is:\",r)"
   ]
  },
  {
   "cell_type": "code",
   "execution_count": null,
   "metadata": {},
   "outputs": [],
   "source": []
  }
 ],
 "metadata": {
  "kernelspec": {
   "display_name": "Python 3",
   "language": "python",
   "name": "python3"
  },
  "language_info": {
   "codemirror_mode": {
    "name": "ipython",
    "version": 3
   },
   "file_extension": ".py",
   "mimetype": "text/x-python",
   "name": "python",
   "nbconvert_exporter": "python",
   "pygments_lexer": "ipython3",
   "version": "3.8.0"
  }
 },
 "nbformat": 4,
 "nbformat_minor": 4
}
