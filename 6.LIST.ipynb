{
 "cells": [
  {
   "cell_type": "code",
   "execution_count": 1,
   "metadata": {},
   "outputs": [
    {
     "name": "stdout",
     "output_type": "stream",
     "text": [
      "Enter some numbers seperated by comma2,5,8,5,6,4\n",
      "list is ['2', '5', '8', '5', '6', '4']\n"
     ]
    }
   ],
   "source": [
    "#program which accept sequence of comma seperated numbers from user\n",
    "num=input(\"Enter some numbers seperated by comma\") #to enter numbers\n",
    "list=num.split(',')                                #splits the number and stores in list wherever comma comes \n",
    "print(\"list is\",list)                              #displays the list"
   ]
  },
  {
   "cell_type": "code",
   "execution_count": 2,
   "metadata": {},
   "outputs": [
    {
     "name": "stdout",
     "output_type": "stream",
     "text": [
      "Enter file name with extension:test.txt\n",
      "Extension of file is: ['txt']\n"
     ]
    }
   ],
   "source": [
    "#program to accept a filename from the user,print extension of that\n",
    "file=input(\"Enter file name with extension:\")  #inputs the file with extension\n",
    "ext=file.split(\".\")                            #splits the file name and extension wherever '.' comes and stores in ext\n",
    "print(\"Extension of file is:\",ext[-1:])        #displays the last string in the ext"
   ]
  },
  {
   "cell_type": "code",
   "execution_count": 8,
   "metadata": {},
   "outputs": [
    {
     "name": "stdout",
     "output_type": "stream",
     "text": [
      "Enter the colors seperated by commared,blue,green,pink\n",
      "color list: ['red', 'blue', 'green', 'pink']\n",
      "first color in the list is: red\n",
      "second color in the list is: pink\n"
     ]
    }
   ],
   "source": [
    "#program to display first and last colors of a colors list\n",
    "list=input(\"Enter the colors seperated by comma\") #to input various colors \n",
    "col=list.split(',')                               #splits the list wherever coma is encountered and stores in col \n",
    "print(\"color list:\",col)                          #displays the entered colors \n",
    "print(\"first color in the list is:\",col[0])       #displays first color\n",
    "print(\"second color in the list is:\",col[-1])     #displays the last color"
   ]
  },
  {
   "cell_type": "code",
   "execution_count": 13,
   "metadata": {},
   "outputs": [
    {
     "name": "stdout",
     "output_type": "stream",
     "text": [
      "Enter the string:tomato\n",
      "new string is: toma$o\n"
     ]
    }
   ],
   "source": [
    "#program to get string from user and all occurences of its first char except the first char changed to $\n",
    "str=input(\"Enter the string:\")   #to enter the string\n",
    "f=str[0]                         #to store the first character of string\n",
    "c=str[1:]                        #to store remaining charcters except first characters in c\n",
    "r=f+c.replace(f,\"$\")             #replaces first character with $ in c and concanate with f\n",
    "print(\"new string is:\",r)        #displays the new string"
   ]
  },
  {
   "cell_type": "code",
   "execution_count": null,
   "metadata": {},
   "outputs": [],
   "source": []
  }
 ],
 "metadata": {
  "kernelspec": {
   "display_name": "Python 3",
   "language": "python",
   "name": "python3"
  },
  "language_info": {
   "codemirror_mode": {
    "name": "ipython",
    "version": 3
   },
   "file_extension": ".py",
   "mimetype": "text/x-python",
   "name": "python",
   "nbconvert_exporter": "python",
   "pygments_lexer": "ipython3",
   "version": "3.8.0"
  }
 },
 "nbformat": 4,
 "nbformat_minor": 4
}
