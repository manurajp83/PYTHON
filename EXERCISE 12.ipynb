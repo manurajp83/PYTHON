{
 "cells": [
  {
   "cell_type": "code",
   "execution_count": 6,
   "metadata": {},
   "outputs": [
    {
     "name": "stdout",
     "output_type": "stream",
     "text": [
      "Enter number of numbers 5\n",
      "Enter number 1 -5\n",
      "Enter number 2 4\n",
      "Enter number 3 -3\n",
      "Enter number 4 2\n",
      "Enter number 5 1\n",
      "\n",
      "---------OUTPUT----------\n",
      "\n",
      "The given list is  [-5, 4, -3, 2, 1]\n",
      "positive numbers are:  [4, 2, 1]\n"
     ]
    }
   ],
   "source": [
    "#Generate positive list of numbers from a given list of integers\n",
    "n=int(input(\"Enter number of numbers \"))       #reading number of numbers\n",
    "n_list=list()                                  #declaration of list\n",
    "\n",
    "for i in range(n):                             #for loop interates till i<n\n",
    "    m=int(input(\"Enter number %d \"%(i+1)))      #reads the numbers \n",
    "    n_list.append(m)                           #appends them to n_list \n",
    "print(\"\\n---------OUTPUT----------\\n\")         #output message \n",
    "print(\"The given list is \",n_list)             #displays the entered list\n",
    "p_list=[i for i in n_list if i>0]              #p_list created by list comprehension \n",
    "print(\"positive numbers are: \",p_list)         #displays p_list"
   ]
  },
  {
   "cell_type": "code",
   "execution_count": 9,
   "metadata": {},
   "outputs": [
    {
     "name": "stdout",
     "output_type": "stream",
     "text": [
      "Enter number of numbers 4\n",
      "Enter number 1 4\n",
      "Enter number 2 3\n",
      "Enter number 3 2\n",
      "Enter number 4 1\n",
      "\n",
      "---------OUTPUT----------\n",
      "\n",
      "The given list is  [4, 3, 2, 1]\n",
      "square numbers list:  [16, 9, 4, 1]\n"
     ]
    }
   ],
   "source": [
    "#square N numbers\n",
    "#Generate positive list of numbers from a given list of integers\n",
    "n=int(input(\"Enter number of numbers \"))       #reading number of numbers\n",
    "n_list=list()                                  #declaration of list\n",
    "\n",
    "for i in range(n):                             #for loop interates till i<n\n",
    "    m=int(input(\"Enter number %d \"%(i+1)))     #reads the numbers \n",
    "    n_list.append(m)                           #appends them to n_list \n",
    "print(\"\\n---------OUTPUT----------\\n\")         #output message \n",
    "print(\"The given list is \",n_list)             #displays the entered list\n",
    "p_list=[i**2 for i in n_list if i>0]           #p_list created by list comprehension \n",
    "print(\"square numbers list: \",p_list)          #displays p_list\n"
   ]
  },
  {
   "cell_type": "code",
   "execution_count": 10,
   "metadata": {},
   "outputs": [
    {
     "name": "stdout",
     "output_type": "stream",
     "text": [
      "Enter a word :aeroplane\n",
      "\n",
      "----------OUTPUT--------------\n",
      "\n",
      "LIST OF VOWELS IS  ['a', 'e', 'o']\n"
     ]
    }
   ],
   "source": [
    "#From a list of vowels selected from a given word\n",
    "\n",
    "v=['a','e','i','o','u']                                   #vowel list\n",
    "r_list=[i for i in w if i in v ]                          #r_list contains vowels in the word with repetation\n",
    "v_list=list()\n",
    "[v_list.append (i)  for i in r_list if i not in v_list]   #list comprehension\n",
    "print(\"\\n----------OUTPUT--------------\\n\")\n",
    "print(\"LIST OF VOWELS IS \",v_list)"
   ]
  },
  {
   "cell_type": "code",
   "execution_count": 13,
   "metadata": {},
   "outputs": [
    {
     "name": "stdout",
     "output_type": "stream",
     "text": [
      "Enter a word :Hello\n",
      "\n",
      "---------------OUTPUT--------------\n",
      "\n",
      "ORDINAL VALUE: ['H:72', 'e:101', 'l:108', 'l:108', 'o:111']\n"
     ]
    }
   ],
   "source": [
    "#list ordinal value of each elelment of a word (hint:use ord() to get ordinal values)\n",
    "#ordinal va;ue are the unicode\n",
    "w=input(\"Enter a word :\")                                  #reading words from user\n",
    "o_list=[\"%s:%d\"%(i,ord(i))for i in w]                      #list comprehension\n",
    "print(\"\\n---------------OUTPUT--------------\\n\")\n",
    "print(\"ORDINAL VALUE:\",o_list)                             #printing ordinal value"
   ]
  },
  {
   "cell_type": "code",
   "execution_count": null,
   "metadata": {},
   "outputs": [],
   "source": []
  }
 ],
 "metadata": {
  "kernelspec": {
   "display_name": "Python 3",
   "language": "python",
   "name": "python3"
  },
  "language_info": {
   "codemirror_mode": {
    "name": "ipython",
    "version": 3
   },
   "file_extension": ".py",
   "mimetype": "text/x-python",
   "name": "python",
   "nbconvert_exporter": "python",
   "pygments_lexer": "ipython3",
   "version": "3.8.0"
  }
 },
 "nbformat": 4,
 "nbformat_minor": 4
}
