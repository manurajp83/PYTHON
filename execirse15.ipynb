{
 "cells": [
  {
   "cell_type": "code",
   "execution_count": 7,
   "metadata": {},
   "outputs": [
    {
     "name": "stdout",
     "output_type": "stream",
     "text": [
      "enter value of x:6\n",
      "enter value of y:6\n",
      "enter value of z:6\n"
     ]
    },
    {
     "data": {
      "text/plain": [
       "54"
      ]
     },
     "execution_count": 7,
     "metadata": {},
     "output_type": "execute_result"
    }
   ],
   "source": [
    "#calculate sum of 3 numbers,if the values are equal then return thrice their sum\n",
    "x=int(input(\"enter value of x:\")) #read the value\n",
    "y=int(input(\"enter value of y:\")) #read the value\n",
    "z=int(input(\"enter value of z:\")) #read the value\n",
    "def sum(x,y,z): #defining fuction\n",
    "    sum=x+y+z\n",
    "    if x==y==z:   #condition\n",
    "        sum=sum*3\n",
    "    return (sum)\n",
    "sum(x,y,z)"
   ]
  },
  {
   "cell_type": "code",
   "execution_count": 9,
   "metadata": {},
   "outputs": [
    {
     "name": "stdout",
     "output_type": "stream",
     "text": [
      "enter a stringtrue\n",
      "Istrue\n"
     ]
    }
   ],
   "source": [
    "#get a new string from a given string where \"is\" has been added to front\n",
    "s=input(\"enter a string\") #recieving the input\n",
    "def string(str):     #defining  function\n",
    "    if str[:2]==\"Is\":  #checking \"is\" present or not\n",
    "        return str\n",
    "    else:\n",
    "        return \"Is\"+str \n",
    "print(string(s))"
   ]
  },
  {
   "cell_type": "code",
   "execution_count": 14,
   "metadata": {},
   "outputs": [
    {
     "name": "stdout",
     "output_type": "stream",
     "text": [
      "enter a number:56234\n",
      "sum= 20\n"
     ]
    }
   ],
   "source": [
    "#find sum of a digit of a number\n",
    "n=int(input(\"enter a number:\")) #recieving the input\n",
    "def sum(n): #definig function\n",
    "    sum=0;\n",
    "    for i in str(n):\n",
    "        sum+=int(i)\n",
    "    return sum\n",
    "print(\"sum=\",sum(n))\n",
    "    "
   ]
  },
  {
   "cell_type": "code",
   "execution_count": 19,
   "metadata": {},
   "outputs": [
    {
     "name": "stdout",
     "output_type": "stream",
     "text": [
      "enter a number:36\n",
      "1\n",
      "2\n",
      "3\n",
      "4\n",
      "6\n",
      "9\n",
      "12\n",
      "18\n",
      "36\n"
     ]
    }
   ],
   "source": [
    "#factors of a number\n",
    "n=int(input(\"enter a number:\")) #recieving the input\n",
    "def fact(n):    #definig function\n",
    "    for i in range(1,n+1):\n",
    "        if n%i== 0:   #condition\n",
    "            print(i)\n",
    "fact(n)\n",
    "    "
   ]
  },
  {
   "cell_type": "code",
   "execution_count": 20,
   "metadata": {},
   "outputs": [
    {
     "name": "stdout",
     "output_type": "stream",
     "text": [
      "principal amount:8\n",
      "time period:6\n",
      "rate of interest:8\n",
      "simple interest 3.84\n"
     ]
    }
   ],
   "source": [
    "#calculate simple interest\n",
    "p=int(input(\"principal amount:\"))#read the value of p\n",
    "t=int(input(\"time period:\"))  #read the value of t\n",
    "r=int(input(\"rate of interest:\")) #read the value of r\n",
    "def interest(p,t,r): #definig function\n",
    "    sin=(p*t*r)/100   #calculation\n",
    "    print(\"simple interest\",sin)\n",
    "interest(p,t,r)"
   ]
  },
  {
   "cell_type": "code",
   "execution_count": null,
   "metadata": {},
   "outputs": [],
   "source": []
  }
 ],
 "metadata": {
  "kernelspec": {
   "display_name": "Python 3",
   "language": "python",
   "name": "python3"
  },
  "language_info": {
   "codemirror_mode": {
    "name": "ipython",
    "version": 3
   },
   "file_extension": ".py",
   "mimetype": "text/x-python",
   "name": "python",
   "nbconvert_exporter": "python",
   "pygments_lexer": "ipython3",
   "version": "3.7.3"
  }
 },
 "nbformat": 4,
 "nbformat_minor": 2
}
