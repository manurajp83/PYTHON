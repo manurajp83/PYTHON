{
 "cells": [
  {
   "cell_type": "code",
   "execution_count": 1,
   "metadata": {},
   "outputs": [
    {
     "name": "stdout",
     "output_type": "stream",
     "text": [
      "Enter 1st number:5\n",
      "Enter 2nd number:9\n",
      "Largest number 9\n"
     ]
    }
   ],
   "source": [
    "#program to take 2 integer value and print the greatest among them\n",
    "a=int(input(\"Enter 1st number:\"))#reading first value1\n",
    "b=int(input(\"Enter 2nd number:\"))#reading 2nd number\n",
    "if(a>b):                         #checks if condition is true\n",
    " print(\"Largest number\",a)       #print largest number\n",
    "else:                             #false statement\n",
    " print(\"Largest number\",b)"
   ]
  },
  {
   "cell_type": "code",
   "execution_count": 2,
   "metadata": {},
   "outputs": [
    {
     "name": "stdout",
     "output_type": "stream",
     "text": [
      "Enter a number:0\n",
      "The Number you entered is zero \n"
     ]
    }
   ],
   "source": [
    "#program to check whether no. +ve,-ve or zero\n",
    "a=int(input(\"Enter a number:\"))                 #reading a number\n",
    "if (a>0) :                                      #checks if condition is true \n",
    " print(\"The number you entered is Positive \")   #prints if it is positive number\n",
    "elif a==0:                                      #checks if number is zero\n",
    " print(\"The Number you entered is zero \")       #prints if it is zero\n",
    "else:\n",
    " print(\"The number you entered is negative\")    #if all condition are false it  prints number is negative"
   ]
  },
  {
   "cell_type": "code",
   "execution_count": 11,
   "metadata": {},
   "outputs": [
    {
     "name": "stdout",
     "output_type": "stream",
     "text": [
      "Enter the length:9\n",
      "Enter the breadth:9\n",
      "square\n"
     ]
    }
   ],
   "source": [
    "#program to take two values of length and breadth of rectangle and check if it is square or not\n",
    "a=int(input(\"Enter the length:\"))#reading length\n",
    "b=int(input(\"Enter the breadth:\"))#reading breadth\n",
    "if(a==b):                         #check condition if both are equal \n",
    " print(\"square\")                  #print if it is square\n",
    "else:                             #else part\n",
    " print(\"not square\")              #print if it is not square"
   ]
  },
  {
   "cell_type": "code",
   "execution_count": 12,
   "metadata": {},
   "outputs": [
    {
     "name": "stdout",
     "output_type": "stream",
     "text": [
      "Enter a integer800\n",
      "Enter another integer10\n",
      "product 8000\n",
      "sum: 810\n"
     ]
    }
   ],
   "source": [
    "#program to return sum\n",
    "a=int(input(\"Enter a integer\"))     #to read the value\n",
    "b=int(input(\"Enter another integer\"))#to read another value \n",
    "c=a*b                                #product of 2 number \n",
    "d=a+b                                #sum of 2 number\n",
    "print(\"product\",c)\n",
    "if(c>1000):                          #condition\n",
    " print(\"sum:\",d)"
   ]
  },
  {
   "cell_type": "code",
   "execution_count": 15,
   "metadata": {},
   "outputs": [
    {
     "name": "stdout",
     "output_type": "stream",
     "text": [
      "Enter total number of  class held:100\n",
      "Enter number of class attented: 20\n",
      "Attentance: 20.0\n",
      "Not allowed to attend exam\n"
     ]
    }
   ],
   "source": [
    "#program to find the attentance\n",
    "a=int(input(\"Enter total number of  class held:\")) #to read no. of classes\n",
    "b=int(input(\"Enter number of class attented: \")) #to read classes attended\n",
    "c=(b/a)*100                                      #to find attentance percentage\n",
    "print(\"Attentance:\",c)\n",
    "if(c>=75):                                      #check condition   \n",
    " print(\"Allowed to attend exam\")\n",
    "else:                                           #condition\n",
    " print(\"Not allowed to attend exam\")"
   ]
  },
  {
   "cell_type": "code",
   "execution_count": 18,
   "metadata": {},
   "outputs": [
    {
     "name": "stdout",
     "output_type": "stream",
     "text": [
      "Enter some numbers seperated by commas:9,5,6,5,6,9\n",
      "same number\n"
     ]
    }
   ],
   "source": [
    "#program to print true if first and last number of the list are same\n",
    "a=input(\"Enter some numbers seperated by commas:\") #to read some no. seperated by commas\n",
    "list=a.split(',')                                  #split function\n",
    "if(list[0]==list[-1]):                             #condition check\n",
    "  print(\"same number\")                                  \n",
    "else:                                              #else statement\n",
    "  print(\"different\")"
   ]
  },
  {
   "cell_type": "code",
   "execution_count": null,
   "metadata": {},
   "outputs": [],
   "source": []
  }
 ],
 "metadata": {
  "kernelspec": {
   "display_name": "Python 3",
   "language": "python",
   "name": "python3"
  },
  "language_info": {
   "codemirror_mode": {
    "name": "ipython",
    "version": 3
   },
   "file_extension": ".py",
   "mimetype": "text/x-python",
   "name": "python",
   "nbconvert_exporter": "python",
   "pygments_lexer": "ipython3",
   "version": "3.8.0"
  }
 },
 "nbformat": 4,
 "nbformat_minor": 4
}
