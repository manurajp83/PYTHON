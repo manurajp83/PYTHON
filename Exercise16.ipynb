{
 "cells": [
  {
   "cell_type": "code",
   "execution_count": 10,
   "metadata": {},
   "outputs": [
    {
     "name": "stdout",
     "output_type": "stream",
     "text": [
      "enter your name:jilson\n",
      "enter Your salary:\n",
      "name of employee:jilson \n",
      "salary:8000\n"
     ]
    }
   ],
   "source": [
    "'''Create a function showEmployee() in such a way that it should accept employee\n",
    "name, and it’s salary and display both, and if the salary is missing in function call\n",
    "it should show it as 8000'''\n",
    "\n",
    "n=input(\"enter your name:\")\n",
    "s=input(\"enter Your salary:\")\n",
    "def showEmployee(name,salary=\"8000\"):#definig a function with arguments\n",
    "    print(\"name of employee:%s \\nsalary:%s\"%(name,salary))\n",
    "if(s==\"\"):                 #condition salary is null\n",
    "    showEmployee(n)\n",
    "else:\n",
    "    showEmployee(n,s)\n"
   ]
  },
  {
   "cell_type": "code",
   "execution_count": 22,
   "metadata": {},
   "outputs": [
    {
     "name": "stdout",
     "output_type": "stream",
     "text": [
      "enter a number:9\n",
      "enter a number:3\n",
      "\n"
     ]
    },
    {
     "data": {
      "text/plain": [
       "'after addition:12 after subtraction:6 after multiplication:27 after division:3.0'"
      ]
     },
     "execution_count": 22,
     "metadata": {},
     "output_type": "execute_result"
    }
   ],
   "source": [
    "'''Write a function calculate() such that it can accept two variables and calculate\n",
    "the addition, subtraction, division and Multiplication of it. And also it must\n",
    "return all values in a single return call and display the results.'''\n",
    "\n",
    "x=int(input(\"enter a number:\"))\n",
    "y=int(input(\"enter a number:\"))\n",
    "def calculation(a,b):    #defining function\n",
    "    add=a+b\n",
    "    sub=a-b\n",
    "    mul=a*b\n",
    "    div=a/b\n",
    "    print()\n",
    "    return(\"after addition:%s after subtraction:%s after multiplication:%s after division:%s\"%(add,sub,mul,div))\n",
    "calculation(x,y)"
   ]
  },
  {
   "cell_type": "code",
   "execution_count": 25,
   "metadata": {},
   "outputs": [
    {
     "name": "stdout",
     "output_type": "stream",
     "text": [
      "MINIMUM OF NUMBERS\n"
     ]
    },
    {
     "data": {
      "text/plain": [
       "2"
      ]
     },
     "execution_count": 25,
     "metadata": {},
     "output_type": "execute_result"
    }
   ],
   "source": [
    "'''Write a function func1() such that it can accept a variable length of arguments\n",
    "and return the minimum among all argument values. Print the result.'''\n",
    "def fun(*num):                       #defining function\n",
    "    a=min(num)                       #using min\n",
    "    print(\"MINIMUM OF NUMBERS\")\n",
    "    return a\n",
    "fun(8,10,2,56,2)\n",
    "    "
   ]
  },
  {
   "cell_type": "code",
   "execution_count": 27,
   "metadata": {},
   "outputs": [
    {
     "name": "stdout",
     "output_type": "stream",
     "text": [
      "\n",
      "Data type of argument: <class 'dict'>\n",
      "Firstname is Sita\n",
      "Lastname is Sharma\n",
      "Age is 22\n",
      "Phone is 1234567890\n",
      "\n",
      "Data type of argument: <class 'dict'>\n",
      "Firstname is John\n",
      "Lastname is Wood\n",
      "Email is johnwood@nomail.com\n",
      "Country is India\n",
      "Age is 25\n",
      "Phone is 9876543210\n"
     ]
    }
   ],
   "source": [
    "#example keywordvariable arguments\n",
    "def intro(**data):\n",
    "    print(\"\\nData type of argument:\",type(data))\n",
    "    for key, value in data.items():\n",
    "        print(\"{} is {}\".format(key,value))\n",
    "\n",
    "intro(Firstname=\"Sita\", Lastname=\"Sharma\", Age=22, Phone=1234567890)\n",
    "intro(Firstname=\"John\", Lastname=\"Wood\", Email=\"johnwood@nomail.com\",Country=\"India\", Age=25, Phone=9876543210)"
   ]
  },
  {
   "cell_type": "code",
   "execution_count": 30,
   "metadata": {},
   "outputs": [
    {
     "name": "stdout",
     "output_type": "stream",
     "text": [
      "Sum: 8\n",
      "Sum: 22\n",
      "Sum: 17\n"
     ]
    }
   ],
   "source": [
    "#Non-keyword variable arguments\n",
    "def adder(*num):\n",
    "        sum = 0\n",
    "        for n in num:\n",
    "            sum = sum + n\n",
    "        print(\"Sum:\",sum)\n",
    "\n",
    "adder(3,5)\n",
    "adder(4,5,6,7)\n",
    "adder(1,2,3,5,6)"
   ]
  },
  {
   "cell_type": "code",
   "execution_count": null,
   "metadata": {},
   "outputs": [],
   "source": []
  }
 ],
 "metadata": {
  "kernelspec": {
   "display_name": "Python 3",
   "language": "python",
   "name": "python3"
  },
  "language_info": {
   "codemirror_mode": {
    "name": "ipython",
    "version": 3
   },
   "file_extension": ".py",
   "mimetype": "text/x-python",
   "name": "python",
   "nbconvert_exporter": "python",
   "pygments_lexer": "ipython3",
   "version": "3.7.3"
  }
 },
 "nbformat": 4,
 "nbformat_minor": 2
}
